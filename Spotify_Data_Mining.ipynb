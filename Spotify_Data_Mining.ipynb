{
  "nbformat": 4,
  "nbformat_minor": 0,
  "metadata": {
    "colab": {
      "name": "Spotify_Data_Mining.ipynb",
      "provenance": [],
      "authorship_tag": "ABX9TyO9B+qT0vQ+6deCkof1lrsA",
      "include_colab_link": true
    },
    "kernelspec": {
      "name": "python3",
      "display_name": "Python 3"
    },
    "language_info": {
      "name": "python"
    }
  },
  "cells": [
    {
      "cell_type": "markdown",
      "metadata": {
        "id": "view-in-github",
        "colab_type": "text"
      },
      "source": [
        "<a href=\"https://colab.research.google.com/github/Pushpit07/Spotify-Exploratory-Analysis/blob/main/Spotify_Data_Mining.ipynb\" target=\"_parent\"><img src=\"https://colab.research.google.com/assets/colab-badge.svg\" alt=\"Open In Colab\"/></a>"
      ]
    },
    {
      "cell_type": "markdown",
      "source": [
        "# Spotify Data Mining"
      ],
      "metadata": {
        "id": "O3XuJ9P6iGV3"
      }
    },
    {
      "cell_type": "code",
      "source": [
        "import numpy as np\n",
        "import pandas as pd\n",
        "import matplotlib.pyplot as plt\n",
        "import seaborn as sns\n",
        "from sklearn.model_selection import train_test_split, StratifiedKFold"
      ],
      "metadata": {
        "id": "TKSlsdPDiIzt"
      },
      "execution_count": 1,
      "outputs": []
    },
    {
      "cell_type": "code",
      "source": [
        "df = pd.read_csv(\"udemy_courses.csv\")\n",
        "df"
      ],
      "metadata": {
        "id": "IvYLZhq8iLVt"
      },
      "execution_count": null,
      "outputs": []
    }
  ]
}